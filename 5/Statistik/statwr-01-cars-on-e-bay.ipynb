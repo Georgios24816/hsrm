{
 "cells": [
  {
   "attachments": {
    "hsrmlogo.png": {
     "image/png": "[encoded data removed]"
    }
   },
   "cell_type": "markdown",
   "id": "a2c33467",
   "metadata": {
    "papermill": {
     "duration": 0.008951,
     "end_time": "2021-10-17T21:06:19.257844",
     "exception": false,
     "start_time": "2021-10-17T21:06:19.248893",
     "status": "completed"
    },
    "tags": []
   },
   "source": [
    " # Autos auf E-Bay <img src=\"attachment:hsrmlogo.png\" width=\"10%\" align=\"right\">\n",
    "Dieses Notebook stellt einen Datensatz von Gebrauchtwagen auf E-Bay vor, den wir als Beispiel in der Vorlesung verwenden werden. Unser Endziel wird es sein, den Verkaufspreis eines Autos (gegeben Merkmale wie sein Alter, seine Marke, etc.) vorherzusagen.\n",
    "\n",
    "Hierzu analysieren wir in diesem Notebook zunächst den Datensatz. Laden Sie die Datei 'cars.csv' aus Stud.IP herunter, plazieren Sie sie im gleichen Ordner wie das Notebook, und führen Sie die folgende Zelle aus. Es sollten Zeilen mit Merkmalen (0-56) ausgegeben werden.\n",
    "\n"
   ]
  },
  {
   "cell_type": "code",
   "execution_count": 1,
   "id": "c40b25e1",
   "metadata": {
    "execution": {
     "iopub.execute_input": "2021-10-17T21:06:19.281719Z",
     "iopub.status.busy": "2021-10-17T21:06:19.280789Z",
     "iopub.status.idle": "2021-10-17T21:06:19.527467Z",
     "shell.execute_reply": "2021-10-17T21:06:19.526833Z"
    },
    "papermill": {
     "duration": 0.258924,
     "end_time": "2021-10-17T21:06:19.527598",
     "exception": false,
     "start_time": "2021-10-17T21:06:19.268674",
     "status": "completed"
    },
    "tags": []
   },
   "outputs": [
    {
     "name": "stdout",
     "output_type": "stream",
     "text": [
      "00 : dollar_price\n",
      "01 : registration_year\n",
      "02 : power_ps\n",
      "03 : kilometer\n",
      "04 : postal_code\n",
      "05 : type__bus\n",
      "06 : type__cabrio\n",
      "07 : type__coupe\n",
      "08 : type__kleinwagen\n",
      "09 : type__kombi\n",
      "10 : type__limousine\n",
      "11 : type__suv\n",
      "12 : gearbox__automatik\n",
      "13 : gearbox__manuell\n",
      "14 : fuel__benzin\n",
      "15 : fuel__diesel\n",
      "16 : brand__alfa_romeo\n",
      "17 : brand__audi\n",
      "18 : brand__bmw\n",
      "19 : brand__chevrolet\n",
      "20 : brand__chrysler\n",
      "21 : brand__citroen\n",
      "22 : brand__dacia\n",
      "23 : brand__daewoo\n",
      "24 : brand__daihatsu\n",
      "25 : brand__fiat\n",
      "26 : brand__ford\n",
      "27 : brand__honda\n",
      "28 : brand__hyundai\n",
      "29 : brand__jaguar\n",
      "30 : brand__jeep\n",
      "31 : brand__kia\n",
      "32 : brand__lada\n",
      "33 : brand__lancia\n",
      "34 : brand__land_rover\n",
      "35 : brand__mazda\n",
      "36 : brand__mercedes_benz\n",
      "37 : brand__mini\n",
      "38 : brand__mitsubishi\n",
      "39 : brand__nissan\n",
      "40 : brand__opel\n",
      "41 : brand__peugeot\n",
      "42 : brand__porsche\n",
      "43 : brand__renault\n",
      "44 : brand__rover\n",
      "45 : brand__saab\n",
      "46 : brand__seat\n",
      "47 : brand__skoda\n",
      "48 : brand__smart\n",
      "49 : brand__subaru\n",
      "50 : brand__suzuki\n",
      "51 : brand__toyota\n",
      "52 : brand__trabant\n",
      "53 : brand__volkswagen\n",
      "54 : brand__volvo\n",
      "55 : damage__ja\n",
      "56 : damage__nein\n"
     ]
    }
   ],
   "source": [
    "import pandas\n",
    "import numpy as np\n",
    "\n",
    "# Anmerkung: Man kann die Datei auch in Excel/Libreoffice öffnen.\n",
    "cars = pandas.read_csv('/kaggle/input/carscsv/cars.csv')\n",
    "\n",
    "# Wir geben die Namen der Spalten/Merkmale aus.\n",
    "columns = cars.columns\n",
    "for i,col in enumerate(columns):\n",
    "    print('%.2d : %s' %(i,col))\n",
    "    \n",
    "# Wir konvertieren die Daten in ein Numpy-Array.\n",
    "data = cars.values.astype('float')"
   ]
  },
  {
   "cell_type": "markdown",
   "id": "30eb8074",
   "metadata": {
    "papermill": {
     "duration": 0.008753,
     "end_time": "2021-10-17T21:06:19.545971",
     "exception": false,
     "start_time": "2021-10-17T21:06:19.537218",
     "status": "completed"
    },
    "tags": []
   },
   "source": [
    "In 'data' befindet sich nun eine Datenmatrix. Jede Zeile entspricht einem Auto, jede Spalte einem Merkmal. Berechnen Sie den Durchschnittspreis aller Autos und den Median des Preises. Welcher der beiden Werte ist erwartungsgemäß höher?"
   ]
  },
  {
   "cell_type": "code",
   "execution_count": 2,
   "id": "9bb250bd",
   "metadata": {
    "execution": {
     "iopub.execute_input": "2021-10-17T21:06:19.569177Z",
     "iopub.status.busy": "2021-10-17T21:06:19.568464Z",
     "iopub.status.idle": "2021-10-17T21:06:19.572233Z",
     "shell.execute_reply": "2021-10-17T21:06:19.571632Z"
    },
    "papermill": {
     "duration": 0.017358,
     "end_time": "2021-10-17T21:06:19.572398",
     "exception": false,
     "start_time": "2021-10-17T21:06:19.555040",
     "status": "completed"
    },
    "tags": []
   },
   "outputs": [],
   "source": [
    "# FIXME"
   ]
  },
  {
   "cell_type": "markdown",
   "id": "d198a006",
   "metadata": {
    "papermill": {
     "duration": 0.013052,
     "end_time": "2021-10-17T21:06:19.599300",
     "exception": false,
     "start_time": "2021-10-17T21:06:19.586248",
     "status": "completed"
    },
    "tags": []
   },
   "source": [
    "Die folgende Zelle plottet ein Histogramm aller 'prices'. Führen Sie die Zelle aus. Speichern Sie zu Beginn in 'prices' sämtliche Preise.\n",
    "\n",
    "Es sollte ein Histogramm-Plot erscheinen, der allerdings nur aus einem Balken besteht. Was ist das Problem?"
   ]
  },
  {
   "cell_type": "code",
   "execution_count": 3,
   "id": "5602b9e7",
   "metadata": {
    "execution": {
     "iopub.execute_input": "2021-10-17T21:06:19.632485Z",
     "iopub.status.busy": "2021-10-17T21:06:19.631684Z",
     "iopub.status.idle": "2021-10-17T21:06:19.635013Z",
     "shell.execute_reply": "2021-10-17T21:06:19.634395Z"
    },
    "papermill": {
     "duration": 0.022517,
     "end_time": "2021-10-17T21:06:19.635294",
     "exception": true,
     "start_time": "2021-10-17T21:06:19.612777",
     "status": "failed"
    },
    "tags": []
   },
   "outputs": [
    {
     "ename": "SyntaxError",
     "evalue": "invalid syntax (4051337443.py, line 1)",
     "output_type": "error",
     "traceback": [
      "\u001b[0;36m  File \u001b[0;32m\"/tmp/ipykernel_20/4051337443.py\"\u001b[0;36m, line \u001b[0;32m1\u001b[0m\n\u001b[0;31m    prices = # FIXME\u001b[0m\n\u001b[0m                    ^\u001b[0m\n\u001b[0;31mSyntaxError\u001b[0m\u001b[0;31m:\u001b[0m invalid syntax\n"
     ]
    }
   ],
   "source": [
    "prices = # FIXME\n",
    "\n",
    "# display histogram of prices\n",
    "import matplotlib.pyplot as plt\n",
    "plt.hist(prices)\n",
    "plt.show()"
   ]
  },
  {
   "cell_type": "markdown",
   "id": "133946e9",
   "metadata": {
    "papermill": {
     "duration": null,
     "end_time": null,
     "exception": null,
     "start_time": null,
     "status": "pending"
    },
    "tags": []
   },
   "source": [
    "Die Methode hist() besitzt einen Parameter 'bins'. Hier kann man eine Liste von Grenzen zwischen den einzelnen Partitionen/bins des Histograms angeben. Versuchen Sie sinnvolle Bins zu übergeben, so dass das Histogramm aussagekräftiger wird."
   ]
  },
  {
   "cell_type": "code",
   "execution_count": null,
   "id": "31783f7a",
   "metadata": {
    "papermill": {
     "duration": null,
     "end_time": null,
     "exception": null,
     "start_time": null,
     "status": "pending"
    },
    "tags": []
   },
   "outputs": [],
   "source": [
    "# FIXME"
   ]
  },
  {
   "cell_type": "markdown",
   "id": "a7937c4b",
   "metadata": {
    "papermill": {
     "duration": null,
     "end_time": null,
     "exception": null,
     "start_time": null,
     "status": "pending"
    },
    "tags": []
   },
   "source": [
    "'data' enthält einige 'brand'-Spalten ('brand_audi', 'brand_bmw', ...) die angeben ob das jeweilige Auto zu einer bestimmten Marke gehört. Entfernen Sie diese Spalten aus dem Datensatz.\n",
    "\n",
    "*Hinweis: Mit np.hstack() können Sie zwei Matrizen nebeneinaneder 'kleben'.*"
   ]
  },
  {
   "cell_type": "code",
   "execution_count": null,
   "id": "35613518",
   "metadata": {
    "papermill": {
     "duration": null,
     "end_time": null,
     "exception": null,
     "start_time": null,
     "status": "pending"
    },
    "tags": []
   },
   "outputs": [],
   "source": [
    "# FIXME"
   ]
  },
  {
   "cell_type": "markdown",
   "id": "e9d7d8ce",
   "metadata": {
    "papermill": {
     "duration": null,
     "end_time": null,
     "exception": null,
     "start_time": null,
     "status": "pending"
    },
    "tags": []
   },
   "source": [
    "Geben Sie das günstigste Auto aus. Warum ist es so günstig? Hat es einen Schaden?"
   ]
  },
  {
   "cell_type": "code",
   "execution_count": null,
   "id": "0dab3929",
   "metadata": {
    "papermill": {
     "duration": null,
     "end_time": null,
     "exception": null,
     "start_time": null,
     "status": "pending"
    },
    "tags": []
   },
   "outputs": [],
   "source": [
    "# FIXME"
   ]
  },
  {
   "cell_type": "markdown",
   "id": "8372caad",
   "metadata": {
    "papermill": {
     "duration": null,
     "end_time": null,
     "exception": null,
     "start_time": null,
     "status": "pending"
    },
    "tags": []
   },
   "source": [
    "Führen Sie eine kleine Datenprüfung durch: Stellen Sie sicher, dass jedes Auto entweder beschädigt oder nicht beschädigt ist (d.h., die letzten zwei Spalten des Datensatzes sind korrekt). Checken Sie, dass das Minimum der letzten und vorletzten Spalte immer =0 ist, und das Maximum immer =1.\n",
    "\n",
    "*Hinweis: Mit np.all() können Sie prüfen ob eine Bedingug für **alle** Einträge eines Arrays gilt.*"
   ]
  },
  {
   "cell_type": "code",
   "execution_count": null,
   "id": "7c7a8bd4",
   "metadata": {
    "papermill": {
     "duration": null,
     "end_time": null,
     "exception": null,
     "start_time": null,
     "status": "pending"
    },
    "tags": []
   },
   "outputs": [],
   "source": [
    "# FIXME"
   ]
  },
  {
   "cell_type": "markdown",
   "id": "c4ef348b",
   "metadata": {
    "papermill": {
     "duration": null,
     "end_time": null,
     "exception": null,
     "start_time": null,
     "status": "pending"
    },
    "tags": []
   },
   "source": [
    "Um einen Eindruck von der Beziehung zwischen Preis und Kilometerstand zu erhalten, plotten wir eine kleine Punktwolke. In dieser ist der Preis die x-Achse, der Kilometerstand die y-Achse, und jedes Auto ist ein Punkt."
   ]
  },
  {
   "cell_type": "code",
   "execution_count": null,
   "id": "dbb5046d",
   "metadata": {
    "papermill": {
     "duration": null,
     "end_time": null,
     "exception": null,
     "start_time": null,
     "status": "pending"
    },
    "tags": []
   },
   "outputs": [],
   "source": [
    "prices = FIXME\n",
    "km = FIXME\n",
    "\n",
    "# plot km against price\n",
    "plt.plot(prices, km, 'o', markersize=3)\n",
    "plt.xlim([0,20000])\n",
    "plt.ylim([0,200000])\n",
    "plt.xlabel('price')\n",
    "plt.ylabel('km')\n",
    "plt.show()"
   ]
  }
 ],
 "metadata": {
  "kernelspec": {
   "display_name": "Python 3",
   "language": "python",
   "name": "python3"
  },
  "language_info": {
   "codemirror_mode": {
    "name": "ipython",
    "version": 3
   },
   "file_extension": ".py",
   "mimetype": "text/x-python",
   "name": "python",
   "nbconvert_exporter": "python",
   "pygments_lexer": "ipython3",
   "version": "3.7.10"
  },
  "papermill": {
   "default_parameters": {},
   "duration": 7.702382,
   "end_time": "2021-10-17T21:06:20.157678",
   "environment_variables": {},
   "exception": true,
   "input_path": "__notebook__.ipynb",
   "output_path": "__notebook__.ipynb",
   "parameters": {},
   "start_time": "2021-10-17T21:06:12.455296",
   "version": "2.3.3"
  }
 },
 "nbformat": 4,
 "nbformat_minor": 5
}
